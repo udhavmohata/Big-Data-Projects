{
 "cells": [
  {
   "cell_type": "code",
   "execution_count": 1,
   "metadata": {},
   "outputs": [],
   "source": [
    "from pyspark.sql import SparkSession\n",
    "from pyspark.sql import Row\n",
    "from pyspark.sql import functions"
   ]
  },
  {
   "cell_type": "code",
   "execution_count": 6,
   "metadata": {},
   "outputs": [],
   "source": [
    "def loadMovieNames():\n",
    "    movieNames = {}\n",
    "    with open('u.item',encoding = \"ISO-8859-1\") as f:\n",
    "        for line in f:\n",
    "            fields = line.split('|')\n",
    "            movieNames[int(fields[0])] = fields[1]\n",
    "    return movieNames\n",
    "# def loadMovieNames():\n",
    "#     movieNames = {}\n",
    "#     with open('u.item') as f:\n",
    "#         for line in f:\n",
    "#             fields = line.split('|')\n",
    "#             movieNames[int(fields[0])] = fields[1]\n",
    "#     return movieNames"
   ]
  },
  {
   "cell_type": "code",
   "execution_count": 7,
   "metadata": {},
   "outputs": [],
   "source": [
    "def parseInput(line):\n",
    "    fields = line.split()\n",
    "    return Row(movieID = int(fields[1]), rating = float(fields[2]))"
   ]
  },
  {
   "cell_type": "code",
   "execution_count": 8,
   "metadata": {},
   "outputs": [],
   "source": [
    "spark = SparkSession.builder.appName(\"PopularMovies\").getOrCreate()"
   ]
  },
  {
   "cell_type": "code",
   "execution_count": 9,
   "metadata": {},
   "outputs": [],
   "source": [
    "movieNames = loadMovieNames()"
   ]
  },
  {
   "cell_type": "code",
   "execution_count": 10,
   "metadata": {},
   "outputs": [],
   "source": [
    "lines = spark.sparkContext.textFile(\"u.data\")\n"
   ]
  },
  {
   "cell_type": "code",
   "execution_count": 11,
   "metadata": {},
   "outputs": [
    {
     "data": {
      "text/plain": [
       "PythonRDD[2] at RDD at PythonRDD.scala:53"
      ]
     },
     "execution_count": 11,
     "metadata": {},
     "output_type": "execute_result"
    }
   ],
   "source": [
    "movies = lines.map(parseInput)\n",
    "movies"
   ]
  },
  {
   "cell_type": "code",
   "execution_count": 12,
   "metadata": {},
   "outputs": [],
   "source": [
    "movieDataset = spark.createDataFrame(movies)"
   ]
  },
  {
   "cell_type": "code",
   "execution_count": 13,
   "metadata": {},
   "outputs": [
    {
     "name": "stdout",
     "output_type": "stream",
     "text": [
      "+-------+------------------+\n",
      "|movieID|       avg(rating)|\n",
      "+-------+------------------+\n",
      "|    474| 4.252577319587629|\n",
      "|     29|2.6666666666666665|\n",
      "|     26| 3.452054794520548|\n",
      "|    964|3.3333333333333335|\n",
      "|   1677|               3.0|\n",
      "|     65|3.5391304347826087|\n",
      "|    191| 4.163043478260869|\n",
      "|   1224|2.6666666666666665|\n",
      "|    558|3.6714285714285713|\n",
      "|   1010|              3.25|\n",
      "|    418|3.5813953488372094|\n",
      "|   1277|3.4210526315789473|\n",
      "|   1258|2.5217391304347827|\n",
      "|    541| 2.877551020408163|\n",
      "|   1360|               1.5|\n",
      "|    222|  3.66027397260274|\n",
      "|    938|              2.88|\n",
      "|    293| 3.802721088435374|\n",
      "|    270|3.5955882352941178|\n",
      "|   1127| 2.909090909090909|\n",
      "+-------+------------------+\n",
      "only showing top 20 rows\n",
      "\n"
     ]
    }
   ],
   "source": [
    "averageRatings = movieDataset.groupBy(\"movieID\").avg(\"rating\")\n",
    "averageRatings.show()"
   ]
  },
  {
   "cell_type": "code",
   "execution_count": 14,
   "metadata": {},
   "outputs": [
    {
     "name": "stdout",
     "output_type": "stream",
     "text": [
      "+-------+-----+\n",
      "|movieID|count|\n",
      "+-------+-----+\n",
      "|    474|  194|\n",
      "|     29|  114|\n",
      "|     26|   73|\n",
      "|    964|    9|\n",
      "|   1677|    1|\n",
      "|     65|  115|\n",
      "|    191|  276|\n",
      "|   1224|   12|\n",
      "|    558|   70|\n",
      "|   1010|   44|\n",
      "|    418|  129|\n",
      "|   1277|   19|\n",
      "|   1258|   23|\n",
      "|    541|   49|\n",
      "|   1360|    2|\n",
      "|    222|  365|\n",
      "|    938|   25|\n",
      "|    293|  147|\n",
      "|    270|  136|\n",
      "|   1127|   11|\n",
      "+-------+-----+\n",
      "only showing top 20 rows\n",
      "\n"
     ]
    }
   ],
   "source": [
    "counts = movieDataset.groupBy(\"movieID\").count()\n",
    "counts.show()"
   ]
  },
  {
   "cell_type": "code",
   "execution_count": 15,
   "metadata": {},
   "outputs": [
    {
     "name": "stdout",
     "output_type": "stream",
     "text": [
      "+-------+-----+------------------+\n",
      "|movieID|count|       avg(rating)|\n",
      "+-------+-----+------------------+\n",
      "|     26|   73| 3.452054794520548|\n",
      "|     29|  114|2.6666666666666665|\n",
      "|    474|  194| 4.252577319587629|\n",
      "|    964|    9|3.3333333333333335|\n",
      "|   1677|    1|               3.0|\n",
      "|     65|  115|3.5391304347826087|\n",
      "|    191|  276| 4.163043478260869|\n",
      "|    418|  129|3.5813953488372094|\n",
      "|    541|   49| 2.877551020408163|\n",
      "|    558|   70|3.6714285714285713|\n",
      "|   1010|   44|              3.25|\n",
      "|   1224|   12|2.6666666666666665|\n",
      "|   1258|   23|2.5217391304347827|\n",
      "|   1277|   19|3.4210526315789473|\n",
      "|   1360|    2|               1.5|\n",
      "|    222|  365|  3.66027397260274|\n",
      "|    270|  136|3.5955882352941178|\n",
      "|    293|  147| 3.802721088435374|\n",
      "|    730|   24|               3.5|\n",
      "|    938|   25|              2.88|\n",
      "+-------+-----+------------------+\n",
      "only showing top 20 rows\n",
      "\n"
     ]
    }
   ],
   "source": [
    "averagesAndCounts = counts.join(averageRatings, \"movieID\")\n",
    "averagesAndCounts.show()"
   ]
  },
  {
   "cell_type": "code",
   "execution_count": 16,
   "metadata": {},
   "outputs": [],
   "source": [
    "topTen = averagesAndCounts.orderBy(\"avg(rating)\").take(10)"
   ]
  },
  {
   "cell_type": "code",
   "execution_count": 17,
   "metadata": {},
   "outputs": [
    {
     "name": "stdout",
     "output_type": "stream",
     "text": [
      "The Courtyard (1995) 1 1.0\n",
      "Amityville: A New Generation (1993) 5 1.0\n",
      "Low Life, The (1994) 1 1.0\n",
      "Power 98 (1995) 1 1.0\n",
      "Touki Bouki (Journey of the Hyena) (1973) 1 1.0\n",
      "Careful (1992) 1 1.0\n",
      "Falling in Love Again (1980) 2 1.0\n",
      "Further Gesture, A (1996) 1 1.0\n",
      "Amityville: Dollhouse (1996) 3 1.0\n",
      "Lotto Land (1995) 1 1.0\n"
     ]
    }
   ],
   "source": [
    "for movie in topTen:\n",
    "        print (movieNames[movie[0]], movie[1], movie[2])"
   ]
  },
  {
   "cell_type": "code",
   "execution_count": null,
   "metadata": {},
   "outputs": [],
   "source": []
  }
 ],
 "metadata": {
  "kernelspec": {
   "display_name": "Python 3",
   "language": "python",
   "name": "python3"
  },
  "language_info": {
   "codemirror_mode": {
    "name": "ipython",
    "version": 3
   },
   "file_extension": ".py",
   "mimetype": "text/x-python",
   "name": "python",
   "nbconvert_exporter": "python",
   "pygments_lexer": "ipython3",
   "version": "3.6.9"
  }
 },
 "nbformat": 4,
 "nbformat_minor": 4
}
