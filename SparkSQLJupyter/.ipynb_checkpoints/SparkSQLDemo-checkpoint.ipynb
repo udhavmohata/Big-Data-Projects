{
 "cells": [
  {
   "cell_type": "code",
   "execution_count": 1,
   "metadata": {},
   "outputs": [],
   "source": [
    "import os"
   ]
  },
  {
   "cell_type": "code",
   "execution_count": 2,
   "metadata": {},
   "outputs": [],
   "source": [
    "from pyspark.sql import SparkSession"
   ]
  },
  {
   "cell_type": "code",
   "execution_count": 3,
   "metadata": {},
   "outputs": [],
   "source": [
    "os.environ['PYSPARK_SUBMIT_ARGS'] = '--jars /home/UDHAV.MAHATA/Documents/SparkSQL/mysql-connector-java-5.1.45-bin.jar  pyspark-shell'"
   ]
  },
  {
   "cell_type": "code",
   "execution_count": 4,
   "metadata": {},
   "outputs": [],
   "source": [
    "spark = SparkSession \\\n",
    "    .builder \\\n",
    "    .appName(\"Python Spark SQL basic example\") \\\n",
    "    .config(\"spark.some.config.option\", \"some-value\") \\\n",
    "    .getOrCreate()"
   ]
  },
  {
   "cell_type": "markdown",
   "metadata": {},
   "source": [
    "MySQL"
   ]
  },
  {
   "cell_type": "code",
   "execution_count": 5,
   "metadata": {},
   "outputs": [],
   "source": [
    "#DFsql = spark.read.format(\"jdbc\").option(\"url\", \"jdbc:mysql://localhost:3306/demo\").option(\"driver\", \"com.mysql.jdbc.Driver\").option(\"dbtable\", \"data\").option(\"user\", \"root\").option(\"password\", \"password\").load()\n",
    "# DF2 = spark.read.jdbc(\"jdbc:mysql://localhost:3306/demo\", \"data\",properties={\"driver\":\"com.mysql.jdbc.Driver\",\"user\": \"root\", \"password\": \"password\"})\n",
    "DF = spark.read.format(\"jdbc\").option(\"url\",\"jdbc:mysql://localhost:3306/demo?user=root&password=password\").option(\"dbtable\", \"data\").load()"
   ]
  },
  {
   "cell_type": "code",
   "execution_count": 6,
   "metadata": {},
   "outputs": [
    {
     "name": "stdout",
     "output_type": "stream",
     "text": [
      "+---+-----+---+-----+\n",
      "| id| name|age| city|\n",
      "+---+-----+---+-----+\n",
      "|  1|Udhav| 22|Erode|\n",
      "|  2| jake| 33|   NY|\n",
      "|  3| Nina| 25|   LA|\n",
      "+---+-----+---+-----+\n",
      "\n"
     ]
    }
   ],
   "source": [
    "DFsql.show()"
   ]
  },
  {
   "cell_type": "code",
   "execution_count": 7,
   "metadata": {
    "scrolled": true
   },
   "outputs": [],
   "source": [
    "DFselect = DFsql.select(\"id\", \"name\")"
   ]
  },
  {
   "cell_type": "code",
   "execution_count": 10,
   "metadata": {},
   "outputs": [],
   "source": [
    "DFselect.write.format(\"jdbc\").option(\"url\", \"jdbc:mysql://localhost:3306/demo\").option(\"driver\", \"com.mysql.jdbc.Driver\").option(\"dbtable\", \"opdata\").option(\"user\", \"root\").option(\"password\", \"password\").save()\n"
   ]
  },
  {
   "cell_type": "code",
   "execution_count": 9,
   "metadata": {},
   "outputs": [],
   "source": [
    "DFselectC = DFsql.select(\"id\")"
   ]
  },
  {
   "cell_type": "code",
   "execution_count": 57,
   "metadata": {},
   "outputs": [
    {
     "data": {
      "text/plain": [
       "<pyspark.sql.readwriter.DataFrameWriter at 0x7f8b8765a0b8>"
      ]
     },
     "execution_count": 57,
     "metadata": {},
     "output_type": "execute_result"
    }
   ],
   "source": [
    "DFselect.write.format(\"jdbc\").option(\"url\", \"jdbc:mysql://localhost:3306/demo\").option(\"driver\", \"com.mysql.jdbc.Driver\").option(\"dbtable\", \"opdata\").option(\"user\", \"root\").option(\"password\", \"password\")"
   ]
  }
 ],
 "metadata": {
  "kernelspec": {
   "display_name": "Python 3",
   "language": "python",
   "name": "python3"
  },
  "language_info": {
   "codemirror_mode": {
    "name": "ipython",
    "version": 3
   },
   "file_extension": ".py",
   "mimetype": "text/x-python",
   "name": "python",
   "nbconvert_exporter": "python",
   "pygments_lexer": "ipython3",
   "version": "3.6.9"
  }
 },
 "nbformat": 4,
 "nbformat_minor": 4
}
